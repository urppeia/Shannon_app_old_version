{
 "cells": [
  {
   "cell_type": "code",
   "execution_count": 16,
   "id": "a638d676-7f41-470f-a9bf-062e105e2a06",
   "metadata": {
    "editable": true,
    "execution": {
     "iopub.execute_input": "2024-08-13T15:24:38.547516Z",
     "iopub.status.busy": "2024-08-13T15:24:38.547236Z",
     "iopub.status.idle": "2024-08-13T15:24:38.564394Z",
     "shell.execute_reply": "2024-08-13T15:24:38.563549Z",
     "shell.execute_reply.started": "2024-08-13T15:24:38.547496Z"
    },
    "scrolled": true,
    "slideshow": {
     "slide_type": ""
    },
    "tags": []
   },
   "outputs": [
    {
     "name": "stdout",
     "output_type": "stream",
     "text": [
      "Original DataFrame:\n",
      "    chr  start  methylated_smoothed_sample1  unmethylated_smoothed_sample1  \\\n",
      "0  chr1   1000                            1                              9   \n",
      "1  chr1   2000                            5                              5   \n",
      "\n",
      "   methylated_smoothed_sample2  unmethylated_smoothed_sample2  \\\n",
      "0                            2                              0   \n",
      "1                            0                              9   \n",
      "\n",
      "   methylated_smoothed_sample3  unmethylated_smoothed_sample3  \n",
      "0                            1                             50  \n",
      "1                           10                              7  \n",
      "\n",
      "Probability Matrix:\n",
      "   methylated_smoothed_sample1  unmethylated_smoothed_sample1  \\\n",
      "0                     0.008197                       0.073770   \n",
      "1                     0.087719                       0.087719   \n",
      "\n",
      "   methylated_smoothed_sample2  unmethylated_smoothed_sample2  \\\n",
      "0                     0.016393                       0.000000   \n",
      "1                     0.000000                       0.157895   \n",
      "\n",
      "   methylated_smoothed_sample3  unmethylated_smoothed_sample3  \\\n",
      "0                     0.008197                       0.409836   \n",
      "1                     0.175439                       0.122807   \n",
      "\n",
      "   unmethylated_smoothed_sample1  unmethylated_smoothed_sample2  \\\n",
      "0                       0.073770                       0.000000   \n",
      "1                       0.087719                       0.157895   \n",
      "\n",
      "   unmethylated_smoothed_sample3  \n",
      "0                       0.409836  \n",
      "1                       0.122807  \n",
      "\n",
      "Average Distribution:\n",
      "0    0.111111\n",
      "1    0.111111\n",
      "dtype: float64\n",
      "\n"
     ]
    },
    {
     "ename": "SyntaxError",
     "evalue": "'return' outside function (2167370993.py, line 47)",
     "output_type": "error",
     "traceback": [
      "\u001b[0;36m  Cell \u001b[0;32mIn[16], line 47\u001b[0;36m\u001b[0m\n\u001b[0;31m    return jsd_values\u001b[0m\n\u001b[0m    ^\u001b[0m\n\u001b[0;31mSyntaxError\u001b[0m\u001b[0;31m:\u001b[0m 'return' outside function\n"
     ]
    }
   ],
   "source": [
    "import pandas as pd\n",
    "import numpy as np\n",
    "from scipy.stats import entropy\n",
    "\n",
    "data = {\n",
    "    'chr': ['chr1', 'chr1'],\n",
    "    'start': [1000, 2000],\n",
    "    'methylated_smoothed_sample1': [1, 5],\n",
    "    'unmethylated_smoothed_sample1': [9, 5],\n",
    "    'methylated_smoothed_sample2': [2, 0],\n",
    "    'unmethylated_smoothed_sample2': [0, 9],\n",
    "    'methylated_smoothed_sample3': [1, 10],\n",
    "    'unmethylated_smoothed_sample3': [50, 7]\n",
    "}\n",
    "\n",
    "df = pd.DataFrame(data)\n",
    "\n",
    "print(\"Original DataFrame:\")\n",
    "print(df)\n",
    "print()\n",
    "\n",
    "methylated_columns = [col for col in df.columns if 'methylated_smoothed' in col]\n",
    "unmethylated_columns = [col for col in df.columns if 'unmethylated_smoothed' in col]\n",
    "\n",
    "count_matrix = df[methylated_columns + unmethylated_columns]\n",
    "\n",
    "total_counts = count_matrix.sum(axis=1)\n",
    "\n",
    "probability_matrix = count_matrix.div(total_counts, axis=0)\n",
    "\n",
    "print(\"Probability Matrix:\")\n",
    "print(probability_matrix)\n",
    "print()\n",
    "\n",
    "avg_distribution = probability_matrix.mean(axis=1)\n",
    "\n",
    "print(\"Average Distribution:\")\n",
    "print(avg_distribution)\n",
    "print()\n",
    "\n",
    "def jsd_row(row):\n",
    "    m = 0.5 * (row + avg_distribution)\n",
    "    return 0.5 * (entropy(row, m) + entropy(avg_distribution, m))\n",
    "\n",
    "jsd_values = probability_matrix.apply(jsd_row, axis=1)\n",
    "\n",
    "return jsd_values\n",
    "\n",
    "df['jsd'] = calculate_jsd(df)\n",
    "\n",
    "print(\"DataFrame with JSD:\")\n",
    "print(df)"
   ]
  },
  {
   "cell_type": "code",
   "execution_count": null,
   "id": "6e30c81e-50ba-4bb2-90da-264fa733bde6",
   "metadata": {},
   "outputs": [],
   "source": []
  }
 ],
 "metadata": {
  "kernelspec": {
   "display_name": "environment_shannon",
   "language": "python",
   "name": "environment_shannon"
  },
  "language_info": {
   "codemirror_mode": {
    "name": "ipython",
    "version": 3
   },
   "file_extension": ".py",
   "mimetype": "text/x-python",
   "name": "python",
   "nbconvert_exporter": "python",
   "pygments_lexer": "ipython3",
   "version": "3.12.2"
  },
  "widgets": {
   "application/vnd.jupyter.widget-state+json": {
    "state": {},
    "version_major": 2,
    "version_minor": 0
   }
  }
 },
 "nbformat": 4,
 "nbformat_minor": 5
}
