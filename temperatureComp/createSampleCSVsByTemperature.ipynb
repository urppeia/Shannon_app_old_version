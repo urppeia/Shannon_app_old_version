{
 "cells": [
  {
   "cell_type": "code",
   "execution_count": 2,
   "id": "eeb23bdf-fab2-4bbd-bdbc-4421a5e4c39a",
   "metadata": {
    "execution": {
     "iopub.execute_input": "2024-08-15T08:56:15.949948Z",
     "iopub.status.busy": "2024-08-15T08:56:15.949658Z",
     "iopub.status.idle": "2024-08-15T08:56:19.002080Z",
     "shell.execute_reply": "2024-08-15T08:56:19.001635Z",
     "shell.execute_reply.started": "2024-08-15T08:56:15.949930Z"
    }
   },
   "outputs": [],
   "source": [
    "import pandas as pd\n",
    "import os"
   ]
  },
  {
   "cell_type": "code",
   "execution_count": 3,
   "id": "42844867-ef88-468f-b61f-79fa42fa99c9",
   "metadata": {
    "execution": {
     "iopub.execute_input": "2024-08-15T08:56:19.007021Z",
     "iopub.status.busy": "2024-08-15T08:56:19.006815Z",
     "iopub.status.idle": "2024-08-15T08:56:20.503972Z",
     "shell.execute_reply": "2024-08-15T08:56:20.503550Z",
     "shell.execute_reply.started": "2024-08-15T08:56:19.007006Z"
    }
   },
   "outputs": [],
   "source": [
    "path = \"/shares/grossniklaus.botinst.uzh/dkt/projects/meth1001_code_DKT/data/full_metadata2.xlsx\"\n",
    "data = pd.read_excel(path)\n",
    "data = data.convert_dtypes()"
   ]
  },
  {
   "cell_type": "code",
   "execution_count": 4,
   "id": "7360ea1b-415c-4c32-a61d-1b6652cef5df",
   "metadata": {
    "execution": {
     "iopub.execute_input": "2024-08-15T08:56:20.505285Z",
     "iopub.status.busy": "2024-08-15T08:56:20.505037Z",
     "iopub.status.idle": "2024-08-15T08:56:20.512093Z",
     "shell.execute_reply": "2024-08-15T08:56:20.511724Z",
     "shell.execute_reply.started": "2024-08-15T08:56:20.505267Z"
    }
   },
   "outputs": [],
   "source": [
    "temp_10 = data[data[\"growth_temperature\"] == \"10C\"]\n",
    "temp_22 = data[data[\"growth_temperature\"] == \"22C\"]\n",
    "temp_16 = data[data[\"growth_temperature\"] == \"16C\"]"
   ]
  },
  {
   "cell_type": "code",
   "execution_count": 5,
   "id": "8c8597fe-4a71-4459-99e4-68b96c5c471b",
   "metadata": {
    "execution": {
     "iopub.execute_input": "2024-08-15T08:56:20.512982Z",
     "iopub.status.busy": "2024-08-15T08:56:20.512708Z",
     "iopub.status.idle": "2024-08-15T08:56:20.518172Z",
     "shell.execute_reply": "2024-08-15T08:56:20.517817Z",
     "shell.execute_reply.started": "2024-08-15T08:56:20.512965Z"
    }
   },
   "outputs": [],
   "source": [
    "def createCSV(df, temperature, path):\n",
    "    df = df.rename(columns={'Experiment': 'label'})\n",
    "    \n",
    "    base_dir = '/shares/grossniklaus.botinst.uzh/eharputluoglu/meth1001_code_DKT/analysis/16_tabix_files/output'\n",
    "    experiment_dirs = [d for d in os.listdir(base_dir) if os.path.isdir(os.path.join(base_dir, d))]\n",
    "\n",
    "    dir_paths_column = []\n",
    "\n",
    "    for index, row in df.iterrows():\n",
    "        experiment_name = row['label']\n",
    "        matching_dirs = [d for d in experiment_dirs if experiment_name in d]\n",
    "        if matching_dirs:\n",
    "            experiment_dir = os.path.join(base_dir, matching_dirs[0])\n",
    "            dir_paths_column.append(experiment_dir)  \n",
    "        else:\n",
    "            dir_paths_column.append('')  \n",
    "\n",
    "    df['url'] = dir_paths_column\n",
    "    df = df[df['url'] != '']\n",
    "    \n",
    "    output_csv = temperature + '.csv'\n",
    "    full_output_path = os.path.join(path, output_csv)\n",
    "    \n",
    "    df.to_csv(full_output_path, index=False)\n",
    "    \n",
    "    print(f\"Updated CSV file saved: {full_output_path}\")\n",
    "\n"
   ]
  },
  {
   "cell_type": "code",
   "execution_count": 7,
   "id": "1b277ba1-9633-4f98-947a-3169541f267c",
   "metadata": {
    "execution": {
     "iopub.execute_input": "2024-08-15T08:56:38.710677Z",
     "iopub.status.busy": "2024-08-15T08:56:38.710391Z",
     "iopub.status.idle": "2024-08-15T08:56:38.833922Z",
     "shell.execute_reply": "2024-08-15T08:56:38.833514Z",
     "shell.execute_reply.started": "2024-08-15T08:56:38.710659Z"
    }
   },
   "outputs": [
    {
     "name": "stdout",
     "output_type": "stream",
     "text": [
      "Updated CSV file saved: tempCSV/16_C.csv\n",
      "Updated CSV file saved: tempCSV/10_C.csv\n",
      "Updated CSV file saved: tempCSV/22_C.csv\n"
     ]
    }
   ],
   "source": [
    "path = \"tempCSV/\"\n",
    "createCSV(temp_16, \"16_C\", path)\n",
    "createCSV(temp_10, \"10_C\", path)\n",
    "createCSV(temp_22, \"22_C\", path)\n",
    "\n"
   ]
  },
  {
   "cell_type": "code",
   "execution_count": 8,
   "id": "8cebce9f-93e6-4fa0-bc6a-1a8f344d487a",
   "metadata": {
    "execution": {
     "iopub.execute_input": "2024-08-15T08:56:49.167325Z",
     "iopub.status.busy": "2024-08-15T08:56:49.166882Z",
     "iopub.status.idle": "2024-08-15T08:56:49.562674Z",
     "shell.execute_reply": "2024-08-15T08:56:49.561794Z",
     "shell.execute_reply.started": "2024-08-15T08:56:49.167306Z"
    }
   },
   "outputs": [
    {
     "ename": "KeyError",
     "evalue": "'url'",
     "output_type": "error",
     "traceback": [
      "\u001b[0;31m---------------------------------------------------------------------------\u001b[0m",
      "\u001b[0;31mKeyError\u001b[0m                                  Traceback (most recent call last)",
      "File \u001b[0;32m~/data/conda/envs/environment_shannon/lib/python3.12/site-packages/pandas/core/indexes/base.py:3805\u001b[0m, in \u001b[0;36mIndex.get_loc\u001b[0;34m(self, key)\u001b[0m\n\u001b[1;32m   3804\u001b[0m \u001b[38;5;28;01mtry\u001b[39;00m:\n\u001b[0;32m-> 3805\u001b[0m     \u001b[38;5;28;01mreturn\u001b[39;00m \u001b[38;5;28;43mself\u001b[39;49m\u001b[38;5;241;43m.\u001b[39;49m\u001b[43m_engine\u001b[49m\u001b[38;5;241;43m.\u001b[39;49m\u001b[43mget_loc\u001b[49m\u001b[43m(\u001b[49m\u001b[43mcasted_key\u001b[49m\u001b[43m)\u001b[49m\n\u001b[1;32m   3806\u001b[0m \u001b[38;5;28;01mexcept\u001b[39;00m \u001b[38;5;167;01mKeyError\u001b[39;00m \u001b[38;5;28;01mas\u001b[39;00m err:\n",
      "File \u001b[0;32mindex.pyx:167\u001b[0m, in \u001b[0;36mpandas._libs.index.IndexEngine.get_loc\u001b[0;34m()\u001b[0m\n",
      "File \u001b[0;32mindex.pyx:196\u001b[0m, in \u001b[0;36mpandas._libs.index.IndexEngine.get_loc\u001b[0;34m()\u001b[0m\n",
      "File \u001b[0;32mpandas/_libs/hashtable_class_helper.pxi:7081\u001b[0m, in \u001b[0;36mpandas._libs.hashtable.PyObjectHashTable.get_item\u001b[0;34m()\u001b[0m\n",
      "File \u001b[0;32mpandas/_libs/hashtable_class_helper.pxi:7089\u001b[0m, in \u001b[0;36mpandas._libs.hashtable.PyObjectHashTable.get_item\u001b[0;34m()\u001b[0m\n",
      "\u001b[0;31mKeyError\u001b[0m: 'url'",
      "\nThe above exception was the direct cause of the following exception:\n",
      "\u001b[0;31mKeyError\u001b[0m                                  Traceback (most recent call last)",
      "Cell \u001b[0;32mIn[8], line 1\u001b[0m\n\u001b[0;32m----> 1\u001b[0m \u001b[43mtemp_16\u001b[49m\u001b[43m[\u001b[49m\u001b[38;5;124;43m\"\u001b[39;49m\u001b[38;5;124;43murl\u001b[39;49m\u001b[38;5;124;43m\"\u001b[39;49m\u001b[43m]\u001b[49m\n",
      "File \u001b[0;32m~/data/conda/envs/environment_shannon/lib/python3.12/site-packages/pandas/core/frame.py:4090\u001b[0m, in \u001b[0;36mDataFrame.__getitem__\u001b[0;34m(self, key)\u001b[0m\n\u001b[1;32m   4088\u001b[0m \u001b[38;5;28;01mif\u001b[39;00m \u001b[38;5;28mself\u001b[39m\u001b[38;5;241m.\u001b[39mcolumns\u001b[38;5;241m.\u001b[39mnlevels \u001b[38;5;241m>\u001b[39m \u001b[38;5;241m1\u001b[39m:\n\u001b[1;32m   4089\u001b[0m     \u001b[38;5;28;01mreturn\u001b[39;00m \u001b[38;5;28mself\u001b[39m\u001b[38;5;241m.\u001b[39m_getitem_multilevel(key)\n\u001b[0;32m-> 4090\u001b[0m indexer \u001b[38;5;241m=\u001b[39m \u001b[38;5;28;43mself\u001b[39;49m\u001b[38;5;241;43m.\u001b[39;49m\u001b[43mcolumns\u001b[49m\u001b[38;5;241;43m.\u001b[39;49m\u001b[43mget_loc\u001b[49m\u001b[43m(\u001b[49m\u001b[43mkey\u001b[49m\u001b[43m)\u001b[49m\n\u001b[1;32m   4091\u001b[0m \u001b[38;5;28;01mif\u001b[39;00m is_integer(indexer):\n\u001b[1;32m   4092\u001b[0m     indexer \u001b[38;5;241m=\u001b[39m [indexer]\n",
      "File \u001b[0;32m~/data/conda/envs/environment_shannon/lib/python3.12/site-packages/pandas/core/indexes/base.py:3812\u001b[0m, in \u001b[0;36mIndex.get_loc\u001b[0;34m(self, key)\u001b[0m\n\u001b[1;32m   3807\u001b[0m     \u001b[38;5;28;01mif\u001b[39;00m \u001b[38;5;28misinstance\u001b[39m(casted_key, \u001b[38;5;28mslice\u001b[39m) \u001b[38;5;129;01mor\u001b[39;00m (\n\u001b[1;32m   3808\u001b[0m         \u001b[38;5;28misinstance\u001b[39m(casted_key, abc\u001b[38;5;241m.\u001b[39mIterable)\n\u001b[1;32m   3809\u001b[0m         \u001b[38;5;129;01mand\u001b[39;00m \u001b[38;5;28many\u001b[39m(\u001b[38;5;28misinstance\u001b[39m(x, \u001b[38;5;28mslice\u001b[39m) \u001b[38;5;28;01mfor\u001b[39;00m x \u001b[38;5;129;01min\u001b[39;00m casted_key)\n\u001b[1;32m   3810\u001b[0m     ):\n\u001b[1;32m   3811\u001b[0m         \u001b[38;5;28;01mraise\u001b[39;00m InvalidIndexError(key)\n\u001b[0;32m-> 3812\u001b[0m     \u001b[38;5;28;01mraise\u001b[39;00m \u001b[38;5;167;01mKeyError\u001b[39;00m(key) \u001b[38;5;28;01mfrom\u001b[39;00m \u001b[38;5;21;01merr\u001b[39;00m\n\u001b[1;32m   3813\u001b[0m \u001b[38;5;28;01mexcept\u001b[39;00m \u001b[38;5;167;01mTypeError\u001b[39;00m:\n\u001b[1;32m   3814\u001b[0m     \u001b[38;5;66;03m# If we have a listlike key, _check_indexing_error will raise\u001b[39;00m\n\u001b[1;32m   3815\u001b[0m     \u001b[38;5;66;03m#  InvalidIndexError. Otherwise we fall through and re-raise\u001b[39;00m\n\u001b[1;32m   3816\u001b[0m     \u001b[38;5;66;03m#  the TypeError.\u001b[39;00m\n\u001b[1;32m   3817\u001b[0m     \u001b[38;5;28mself\u001b[39m\u001b[38;5;241m.\u001b[39m_check_indexing_error(key)\n",
      "\u001b[0;31mKeyError\u001b[0m: 'url'"
     ]
    }
   ],
   "source": [
    "temp_16[\"url\"]"
   ]
  },
  {
   "cell_type": "code",
   "execution_count": null,
   "id": "1bfc1702-7564-40b5-9cfa-4a448906e3ce",
   "metadata": {},
   "outputs": [],
   "source": []
  }
 ],
 "metadata": {
  "kernelspec": {
   "display_name": "environment_shannon",
   "language": "python",
   "name": "environment_shannon"
  },
  "language_info": {
   "codemirror_mode": {
    "name": "ipython",
    "version": 3
   },
   "file_extension": ".py",
   "mimetype": "text/x-python",
   "name": "python",
   "nbconvert_exporter": "python",
   "pygments_lexer": "ipython3",
   "version": "3.12.2"
  },
  "widgets": {
   "application/vnd.jupyter.widget-state+json": {
    "state": {},
    "version_major": 2,
    "version_minor": 0
   }
  }
 },
 "nbformat": 4,
 "nbformat_minor": 5
}
