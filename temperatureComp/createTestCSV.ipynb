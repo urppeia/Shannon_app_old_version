{
 "cells": [
  {
   "cell_type": "code",
   "execution_count": 14,
   "id": "2e1202d1-1787-4cfd-8a46-053a5abc3297",
   "metadata": {
    "execution": {
     "iopub.execute_input": "2024-08-15T09:21:04.583396Z",
     "iopub.status.busy": "2024-08-15T09:21:04.583081Z",
     "iopub.status.idle": "2024-08-15T09:21:04.585884Z",
     "shell.execute_reply": "2024-08-15T09:21:04.585514Z",
     "shell.execute_reply.started": "2024-08-15T09:21:04.583376Z"
    }
   },
   "outputs": [],
   "source": [
    "import pandas as pd\n",
    "\n",
    "base_path = \"/shares/grossniklaus.botinst.uzh/eharputluoglu/meth1001_code_DKT/analysis/16_tabix_files/output/\"\n",
    "\n",
    "sample_dirs = [\n",
    "    \"SRX446045_pe\",\n",
    "    \"SRX445881_pe\",\n",
    "    \"SRX1665085_se\",\n",
    "    \"SRX1664918_se\",\n",
    "    \"SRX1664878_se\",\n",
    "    \"SRX1664670_se\",\n",
    "    \"SRX1664654_se\",\n",
    "    \"SRX1664579_se\",\n",
    "    \"SRX1664506_se\",\n",
    "    \"SRX1664488_se\"\n",
    "]"
   ]
  },
  {
   "cell_type": "code",
   "execution_count": 13,
   "id": "3444de39-3f51-49a6-a0e4-7ba582d6caf8",
   "metadata": {
    "execution": {
     "iopub.execute_input": "2024-08-15T09:20:48.374951Z",
     "iopub.status.busy": "2024-08-15T09:20:48.374634Z",
     "iopub.status.idle": "2024-08-15T09:20:48.395119Z",
     "shell.execute_reply": "2024-08-15T09:20:48.394766Z",
     "shell.execute_reply.started": "2024-08-15T09:20:48.374930Z"
    }
   },
   "outputs": [],
   "source": [
    "\n",
    "urls_cpg = [f\"{base_path}{sample}/CpG_{sample}.bismark_bgzip.cov.gz\" for sample in sample_dirs]\n",
    "df_cpg = pd.DataFrame({\n",
    "    'url': urls_cpg,\n",
    "    'label': sample_dirs\n",
    "})\n",
    "df_cpg.to_csv('testSamplesCpG.csv', index=False)\n",
    "########################\n",
    "urls_chg = [f\"{base_path}{sample}/CHG_{sample}.bismark_bgzip.cov.gz\" for sample in sample_dirs]\n",
    "df_chg = pd.DataFrame({\n",
    "    'url': urls_chg,\n",
    "    'label': sample_dirs\n",
    "})\n",
    "df_chg.to_csv('testSamplesCHG.csv', index=False)\n",
    "#######################\n",
    "urls_chh = [f\"{base_path}{sample}/CHH_{sample}.bismark_bgzip.cov.gz\" for sample in sample_dirs]\n",
    "df_chh = pd.DataFrame({\n",
    "    'url': urls_chh,\n",
    "    'label': sample_dirs\n",
    "})\n",
    "df_chh.to_csv('testSamplesCHH.csv', index=False)\n",
    "\n"
   ]
  },
  {
   "cell_type": "code",
   "execution_count": 17,
   "id": "a6858d55-d61a-4a81-a54a-dc062004e9ca",
   "metadata": {
    "execution": {
     "iopub.execute_input": "2024-08-15T09:59:51.531054Z",
     "iopub.status.busy": "2024-08-15T09:59:51.530781Z",
     "iopub.status.idle": "2024-08-15T09:59:51.776603Z",
     "shell.execute_reply": "2024-08-15T09:59:51.776189Z",
     "shell.execute_reply.started": "2024-08-15T09:59:51.531035Z"
    }
   },
   "outputs": [],
   "source": [
    "sample_dirs = [\n",
    "    \"SRX1664601_se\"\n",
    "]\n",
    "\n",
    "urls_cpg = [\"/shares/grossniklaus.botinst.uzh/dkt/projects/meth1001_code_DKT/analysis/15_bgzip_tabix/CHG_SRX1664601_se.bismark.cov.bgz\"]\n",
    "df_cpg = pd.DataFrame({\n",
    "    'url': urls_cpg,\n",
    "    'label': sample_dirs\n",
    "})\n",
    "df_cpg.to_csv('tabixTest.csv', index=False)\n"
   ]
  },
  {
   "cell_type": "code",
   "execution_count": null,
   "id": "0ec564ff-8527-4d2d-9060-797879b8c815",
   "metadata": {},
   "outputs": [],
   "source": []
  }
 ],
 "metadata": {
  "kernelspec": {
   "display_name": "environment_shannon",
   "language": "python",
   "name": "environment_shannon"
  },
  "language_info": {
   "codemirror_mode": {
    "name": "ipython",
    "version": 3
   },
   "file_extension": ".py",
   "mimetype": "text/x-python",
   "name": "python",
   "nbconvert_exporter": "python",
   "pygments_lexer": "ipython3",
   "version": "3.12.2"
  },
  "widgets": {
   "application/vnd.jupyter.widget-state+json": {
    "state": {},
    "version_major": 2,
    "version_minor": 0
   }
  }
 },
 "nbformat": 4,
 "nbformat_minor": 5
}
